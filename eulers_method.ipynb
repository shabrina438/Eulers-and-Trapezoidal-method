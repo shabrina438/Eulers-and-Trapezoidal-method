{
 "cells": [
  {
   "cell_type": "code",
   "execution_count": 1,
   "id": "786be053",
   "metadata": {},
   "outputs": [
    {
     "name": "stdout",
     "output_type": "stream",
     "text": [
      "  x0\t  Ytrue     Yeuler\t      \n",
      "--------------------------------\n",
      "0.0   \t1.00000     1.00000   \n",
      "0.5   \t3.21875     5.25000   \n",
      "1.0   \t3.00000     5.87500   \n",
      "1.5   \t2.21875     5.12500   \n",
      "2.0   \t2.00000     4.50000   \n",
      "2.5   \t2.71875     4.75000   \n",
      "3.0   \t4.00000     5.87500   \n",
      "3.5   \t4.71875     7.12500   \n",
      "4.0   \t3.00000     7.00000   \n",
      "\n",
      "So true solution is : y=3.00\n"
     ]
    }
   ],
   "source": [
    "def f(x):\n",
    "     return - 0.5*x**4 + 4*x**3 - 10 *x**2 +8.5*x +1\n",
    "\n",
    "def f1(x):\n",
    "    return  -2*x**3 +12*x**2 - 20*x +8.5\n",
    "\n",
    "def euler(x0, y0, xn, n):\n",
    "    h = xn        #step size,h = xn \n",
    "\n",
    "    print('  x0\\t  Ytrue     Yeuler\\t      ')\n",
    "    print('--------------------------------')\n",
    "    for i in range(n):\n",
    "        yn = y0 + h * f1(x0)    #yn = y0 + h * f(x0 + i*h, y0)\n",
    "        yt = (f(x0))\n",
    "        print('%.1f   \\t%.5f     %.5f   ' % (x0, yt, y0  ))\n",
    "        y0 = yn\n",
    "        yn = yt\n",
    "        x0 = x0 + h\n",
    "\n",
    "    print('\\nSo true solution is : y=%.2f' % (yn))\n",
    "\n",
    "x0 = 0\n",
    "y0 = 1\n",
    "xn = 0.5   #step size\n",
    "step = 9   #number of steps\n",
    "\n",
    "euler(x0, y0, xn, step)"
   ]
  },
  {
   "cell_type": "code",
   "execution_count": null,
   "id": "1a4aade9",
   "metadata": {},
   "outputs": [],
   "source": []
  }
 ],
 "metadata": {
  "kernelspec": {
   "display_name": "Python 3",
   "language": "python",
   "name": "python3"
  },
  "language_info": {
   "codemirror_mode": {
    "name": "ipython",
    "version": 3
   },
   "file_extension": ".py",
   "mimetype": "text/x-python",
   "name": "python",
   "nbconvert_exporter": "python",
   "pygments_lexer": "ipython3",
   "version": "3.9.7"
  }
 },
 "nbformat": 4,
 "nbformat_minor": 5
}
