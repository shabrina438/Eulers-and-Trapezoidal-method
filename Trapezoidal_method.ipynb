{
 "cells": [
  {
   "cell_type": "code",
   "execution_count": 1,
   "id": "eea8c889",
   "metadata": {},
   "outputs": [
    {
     "name": "stdout",
     "output_type": "stream",
     "text": [
      "Integration value,I : 0.1728\n",
      "True value: 1.640533\n",
      "True error, Et: 1.467733\n",
      "Relative True error: 89.5\n"
     ]
    }
   ],
   "source": [
    "def f(x):\n",
    "    return 0.2 + 25 * x - 200 * x **2 + 675 * x **3  - 900  * x **4 + 400 * x **5\n",
    "\n",
    "def trapezoidal(a, b, n):\n",
    "    h = (b - a) / n  #step size = (upper limit - lower limit)/number of sub interval\n",
    "\n",
    "    integration = f(a) + f(b) #integration value = f(lower limit) + f(upper limit)\n",
    "\n",
    "    for i in range(1, n):\n",
    "        k = a + i * h   #k = lower limit + i * h\n",
    "        interation = integration + 1 * f(k)\n",
    "\n",
    "    integration = integration * h / 2\n",
    "\n",
    "    return integration\n",
    "\n",
    "\n",
    "lower_limit = 0\n",
    "upper_limit = 0.8\n",
    "sub_interval = 10\n",
    "\n",
    "\n",
    "solution = trapezoidal(lower_limit, upper_limit, sub_interval)\n",
    "print(\"Integration value,I : %0.4f\" % (solution*10))\n",
    "\n",
    "\n",
    "\n",
    "#cal exact value of above integral\n",
    "\n",
    "import sympy as sp\n",
    "x = sp.Symbol('x')\n",
    "\n",
    "True_value = (sp.integrate(0.2 + 25 * x - 200 * x **2 + 675 * x **3  - \n",
    "                                           900  * x **4 + 400 * x **5, (x, 0, 0.8)))\n",
    "print(\"True value: %0.6f\" % (True_value))\n",
    "\n",
    "\n",
    "#cal true error\n",
    "\n",
    "True_error = (True_value - (solution*10))     #Et = true value - I\n",
    "print(\"True error, Et: %0.6f\" % (True_error))\n",
    "\n",
    "\n",
    "#cal Relative True error\n",
    "\n",
    "Relative_True_error = ((True_error /True_value)*100)\n",
    "print(\"Relative True error: %0.1f\" % (Relative_True_error))\n"
   ]
  },
  {
   "cell_type": "code",
   "execution_count": null,
   "id": "4b09287b",
   "metadata": {},
   "outputs": [],
   "source": []
  },
  {
   "cell_type": "code",
   "execution_count": null,
   "id": "4c089dce",
   "metadata": {},
   "outputs": [],
   "source": []
  }
 ],
 "metadata": {
  "kernelspec": {
   "display_name": "Python 3",
   "language": "python",
   "name": "python3"
  },
  "language_info": {
   "codemirror_mode": {
    "name": "ipython",
    "version": 3
   },
   "file_extension": ".py",
   "mimetype": "text/x-python",
   "name": "python",
   "nbconvert_exporter": "python",
   "pygments_lexer": "ipython3",
   "version": "3.9.7"
  }
 },
 "nbformat": 4,
 "nbformat_minor": 5
}
